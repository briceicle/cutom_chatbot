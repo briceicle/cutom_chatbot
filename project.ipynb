{
 "cells": [
  {
   "cell_type": "markdown",
   "id": "124e5672",
   "metadata": {},
   "source": [
    "# Custom Chatbot Project"
   ]
  },
  {
   "cell_type": "markdown",
   "id": "2a4a94b3",
   "metadata": {},
   "source": [
    "The dataset I chose is the text from the 2024 Wikipedia page (https://en.wikipedia.org/wiki/2024). This dataset is appropriate because it includes events that happened after the model (`gpt-3.5-turbo`) training period."
   ]
  },
  {
   "cell_type": "markdown",
   "id": "a63d4c5f",
   "metadata": {},
   "source": [
    "## Data Wrangling"
   ]
  },
  {
   "cell_type": "code",
   "execution_count": 1,
   "id": "c69b83a1",
   "metadata": {},
   "outputs": [],
   "source": [
    "# Import all the required libraries\n",
    "import requests\n",
    "import pandas as pd\n",
    "import tiktoken\n",
    "import openai\n",
    "from dateutil.parser import parse\n",
    "from openai.embeddings_utils import get_embedding, distances_from_embeddings\n",
    "\n",
    "openai.api_base = \"https://openai.vocareum.com/v1\"\n",
    "openai.api_key = \"YOUR API KEY\""
   ]
  },
  {
   "cell_type": "code",
   "execution_count": 2,
   "id": "0a595980",
   "metadata": {},
   "outputs": [],
   "source": [
    "# Get the Wikipedia page for \"2024\"\n",
    "params = {\n",
    "    \"action\": \"query\", \n",
    "    \"prop\": \"extracts\",\n",
    "    \"exlimit\": 1,\n",
    "    \"titles\": \"2024\",\n",
    "    \"explaintext\": 1,\n",
    "    \"formatversion\": 2,\n",
    "    \"format\": \"json\"\n",
    "}\n",
    "resp = requests.get(\"https://en.wikipedia.org/w/api.php\", params=params)\n",
    "response_dict = resp.json()"
   ]
  },
  {
   "cell_type": "code",
   "execution_count": 12,
   "id": "acb3a9fd",
   "metadata": {},
   "outputs": [
    {
     "data": {
      "text/html": [
       "<div>\n",
       "<style scoped>\n",
       "    .dataframe tbody tr th:only-of-type {\n",
       "        vertical-align: middle;\n",
       "    }\n",
       "\n",
       "    .dataframe tbody tr th {\n",
       "        vertical-align: top;\n",
       "    }\n",
       "\n",
       "    .dataframe thead th {\n",
       "        text-align: right;\n",
       "    }\n",
       "</style>\n",
       "<table border=\"1\" class=\"dataframe\">\n",
       "  <thead>\n",
       "    <tr style=\"text-align: right;\">\n",
       "      <th></th>\n",
       "      <th>text</th>\n",
       "      <th>embeddings</th>\n",
       "    </tr>\n",
       "  </thead>\n",
       "  <tbody>\n",
       "    <tr>\n",
       "      <th>0</th>\n",
       "      <td>– 2024 (MMXXIV) is the current year, and is a...</td>\n",
       "      <td>[0.0012268582358956337, -0.017947543412446976,...</td>\n",
       "    </tr>\n",
       "    <tr>\n",
       "      <th>1</th>\n",
       "      <td>– So far, this year has seen the continuation...</td>\n",
       "      <td>[-0.02837427519261837, -0.021935394033789635, ...</td>\n",
       "    </tr>\n",
       "    <tr>\n",
       "      <th>2</th>\n",
       "      <td>– Approximately 79 countries, representing ar...</td>\n",
       "      <td>[0.0007004368817433715, -0.019197337329387665,...</td>\n",
       "    </tr>\n",
       "    <tr>\n",
       "      <th>3</th>\n",
       "      <td>January 1 – Egypt, Ethiopia, Iran and the Unit...</td>\n",
       "      <td>[-0.006096014752984047, -0.02365712821483612, ...</td>\n",
       "    </tr>\n",
       "    <tr>\n",
       "      <th>4</th>\n",
       "      <td>January 1 – The Republic of Artsakh is formall...</td>\n",
       "      <td>[0.008020608685910702, 0.008110800758004189, -...</td>\n",
       "    </tr>\n",
       "    <tr>\n",
       "      <th>...</th>\n",
       "      <td>...</td>\n",
       "      <td>...</td>\n",
       "    </tr>\n",
       "    <tr>\n",
       "      <th>127</th>\n",
       "      <td>December 24 – The 2025 Jubilee will begin on t...</td>\n",
       "      <td>[-0.012208213098347187, -0.023865872994065285,...</td>\n",
       "    </tr>\n",
       "    <tr>\n",
       "      <th>128</th>\n",
       "      <td>Autumn – 2024 Kazakh nuclear power referendum.</td>\n",
       "      <td>[-0.0012817641254514456, -0.0090246656909585, ...</td>\n",
       "    </tr>\n",
       "    <tr>\n",
       "      <th>129</th>\n",
       "      <td>September or October – 2024 Sri Lankan preside...</td>\n",
       "      <td>[0.0030008205212652683, -0.0033367571886628866...</td>\n",
       "    </tr>\n",
       "    <tr>\n",
       "      <th>130</th>\n",
       "      <td>October – 2024 Botswana general election.</td>\n",
       "      <td>[-0.020399896427989006, -0.023590216413140297,...</td>\n",
       "    </tr>\n",
       "    <tr>\n",
       "      <th>131</th>\n",
       "      <td>December – 2024 Croatian presidential election.</td>\n",
       "      <td>[-0.012676551938056946, -0.019237393513321877,...</td>\n",
       "    </tr>\n",
       "  </tbody>\n",
       "</table>\n",
       "<p>132 rows × 2 columns</p>\n",
       "</div>"
      ],
      "text/plain": [
       "                                                  text  \\\n",
       "0     – 2024 (MMXXIV) is the current year, and is a...   \n",
       "1     – So far, this year has seen the continuation...   \n",
       "2     – Approximately 79 countries, representing ar...   \n",
       "3    January 1 – Egypt, Ethiopia, Iran and the Unit...   \n",
       "4    January 1 – The Republic of Artsakh is formall...   \n",
       "..                                                 ...   \n",
       "127  December 24 – The 2025 Jubilee will begin on t...   \n",
       "128     Autumn – 2024 Kazakh nuclear power referendum.   \n",
       "129  September or October – 2024 Sri Lankan preside...   \n",
       "130          October – 2024 Botswana general election.   \n",
       "131    December – 2024 Croatian presidential election.   \n",
       "\n",
       "                                            embeddings  \n",
       "0    [0.0012268582358956337, -0.017947543412446976,...  \n",
       "1    [-0.02837427519261837, -0.021935394033789635, ...  \n",
       "2    [0.0007004368817433715, -0.019197337329387665,...  \n",
       "3    [-0.006096014752984047, -0.02365712821483612, ...  \n",
       "4    [0.008020608685910702, 0.008110800758004189, -...  \n",
       "..                                                 ...  \n",
       "127  [-0.012208213098347187, -0.023865872994065285,...  \n",
       "128  [-0.0012817641254514456, -0.0090246656909585, ...  \n",
       "129  [0.0030008205212652683, -0.0033367571886628866...  \n",
       "130  [-0.020399896427989006, -0.023590216413140297,...  \n",
       "131  [-0.012676551938056946, -0.019237393513321877,...  \n",
       "\n",
       "[132 rows x 2 columns]"
      ]
     },
     "execution_count": 12,
     "metadata": {},
     "output_type": "execute_result"
    }
   ],
   "source": [
    "# Load the data into a panda dataframe\n",
    "df = pd.DataFrame()\n",
    "df[\"text\"] = response_dict[\"query\"][\"pages\"][0][\"extract\"].split(\"\\n\")\n",
    "\n",
    "# Clean up text to remove empty lines and headings\n",
    "df = df[(df[\"text\"].str.len() > 0) & (~df[\"text\"].str.startswith(\"==\"))]\n",
    "\n",
    "# In some cases dates are used as headings instead of being part of the\n",
    "# text sample; adjust so dated text samples start with dates\n",
    "prefix = \"\"\n",
    "for (i, row) in df.iterrows():\n",
    "    # If the row already has \" - \", it already has the needed date prefix\n",
    "    if \" – \" not in row[\"text\"]:\n",
    "        try:\n",
    "            # If the row's text is a date, set it as the new prefix\n",
    "            parse(row[\"text\"])\n",
    "            prefix = row[\"text\"]\n",
    "        except:\n",
    "            # If the row's text isn't a date, add the prefix\n",
    "            row[\"text\"] = prefix + \" – \" + row[\"text\"]\n",
    "df = df[df[\"text\"].str.contains(\" – \")].reset_index(drop=True)\n",
    "\n",
    "EMBEDDING_MODEL_NAME = \"text-embedding-ada-002\"\n",
    "batch_size = 100\n",
    "embeddings = []\n",
    "\n",
    "response = openai.Embedding.create(\n",
    "    input=df[\"text\"].tolist(),\n",
    "    engine=EMBEDDING_MODEL_NAME\n",
    ")\n",
    "\n",
    "embeddings.extend([data[\"embedding\"] for data in response[\"data\"]])\n",
    "df[\"embeddings\"] = embeddings\n",
    "df"
   ]
  },
  {
   "cell_type": "markdown",
   "id": "ae769871",
   "metadata": {},
   "source": [
    "## Custom Query Completion"
   ]
  },
  {
   "cell_type": "code",
   "execution_count": 17,
   "id": "582f0656",
   "metadata": {},
   "outputs": [],
   "source": [
    "def get_rows_sorted_by_relevance(question, df):\n",
    "    \"\"\"\n",
    "    Function that takes in a question string and a dataframe containing\n",
    "    rows of text and associated embeddings, and returns that dataframe\n",
    "    sorted from least to most relevant for that question\n",
    "    \"\"\"\n",
    "\n",
    "    # Get embeddings for the question text\n",
    "    question_embeddings = get_embedding(question, engine=EMBEDDING_MODEL_NAME)\n",
    "\n",
    "    # Make a copy of the dataframe and add a \"distances\" column containing\n",
    "    # the cosine distances between each row's embeddings and the\n",
    "    # embeddings of the question\n",
    "    df_copy = df.copy()\n",
    "    df_copy[\"distances\"] = distances_from_embeddings(\n",
    "        question_embeddings,\n",
    "        df_copy[\"embeddings\"].values,\n",
    "        distance_metric=\"cosine\"\n",
    "    )\n",
    "\n",
    "    # Sort the copied dataframe by the distances and return it\n",
    "    # (shorter distance = more relevant so we sort in ascending order)\n",
    "    df_copy.sort_values(\"distances\", ascending=True, inplace=True)\n",
    "    return df_copy"
   ]
  },
  {
   "cell_type": "code",
   "execution_count": 29,
   "id": "8b6e1f75",
   "metadata": {},
   "outputs": [],
   "source": [
    "def custom_prompt(question, df, max_token_count):\n",
    "    \"\"\"\n",
    "    Given a question and a dataframe containing rows of text and their\n",
    "    embeddings, return a text prompt to send to a Completion model\n",
    "    \"\"\"\n",
    "    # Create a tokenizer that is designed to align with our embeddings\n",
    "    tokenizer = tiktoken.get_encoding(\"cl100k_base\")\n",
    "\n",
    "    # Count the number of tokens in the prompt template and question\n",
    "    prompt_template = \"\"\"\n",
    "Answer the question based on the context below, and if the question\n",
    "can't be answered based on the context, say \"I don't know\"\n",
    "\n",
    "Context: \n",
    "\n",
    "{}\n",
    "\n",
    "---\n",
    "\n",
    "Question: {}\n",
    "Answer:\"\"\"\n",
    "\n",
    "    current_token_count = len(tokenizer.encode(prompt_template)) + \\\n",
    "                            len(tokenizer.encode(question))\n",
    "\n",
    "    context = []\n",
    "    for text in get_rows_sorted_by_relevance(question, df)[\"text\"].values:\n",
    "\n",
    "        # Increase the counter based on the number of tokens in this row\n",
    "        text_token_count = len(tokenizer.encode(text))\n",
    "        current_token_count += text_token_count\n",
    "\n",
    "        # Add the row of text to the list if we haven't exceeded the max\n",
    "        if current_token_count <= max_token_count:\n",
    "            context.append(text)\n",
    "        else:\n",
    "            break\n",
    "\n",
    "    return prompt_template.format(\"\\n\\n###\\n\\n\".join(context), question)"
   ]
  },
  {
   "cell_type": "code",
   "execution_count": 30,
   "id": "13f2dcd7",
   "metadata": {},
   "outputs": [],
   "source": [
    "def openai_query(prompt):\n",
    "    \"\"\"\n",
    "    Given a prompt, query the openapi.Completion model.\n",
    "    Return the first response choice from the model.\n",
    "    \"\"\"\n",
    "    answer = openai.Completion.create(\n",
    "        model=\"gpt-3.5-turbo-instruct\",\n",
    "        prompt=prompt,\n",
    "        max_tokens=150\n",
    "    )\n",
    "    return answer[\"choices\"][0][\"text\"].strip()"
   ]
  },
  {
   "cell_type": "markdown",
   "id": "1783f146",
   "metadata": {},
   "source": [
    "## Custom Performance Demonstration"
   ]
  },
  {
   "cell_type": "markdown",
   "id": "4f11fdc0",
   "metadata": {},
   "source": [
    "### Question 1"
   ]
  },
  {
   "cell_type": "code",
   "execution_count": 39,
   "id": "4901c850",
   "metadata": {},
   "outputs": [],
   "source": [
    "question = \"Who won the UEFA Euro?\"\n",
    "custom_question = custom_prompt(question, df, 1000)"
   ]
  },
  {
   "cell_type": "code",
   "execution_count": 40,
   "id": "bd7a093b",
   "metadata": {},
   "outputs": [
    {
     "name": "stdout",
     "output_type": "stream",
     "text": [
      "The UEFA Euro 2020 was postponed to 2021 due to the COVID-19 pandemic. The tournament was won by the Italian national football team in 2021.\n",
      "\n",
      "###\n",
      "\n",
      "Spain won the UEFA Euro in 2024.\n"
     ]
    }
   ],
   "source": [
    "print(openai_query(question))\n",
    "print(\"\\n###\\n\") # print delimiter\n",
    "print(openai_query(custom_question))"
   ]
  },
  {
   "cell_type": "markdown",
   "id": "6e86e37c",
   "metadata": {},
   "source": [
    "### Question 2"
   ]
  },
  {
   "cell_type": "code",
   "execution_count": 33,
   "id": "6f646989",
   "metadata": {},
   "outputs": [],
   "source": [
    "question = \"Who is the president of Iran?\"\n",
    "custom_question = custom_prompt(question, df, 1000)"
   ]
  },
  {
   "cell_type": "code",
   "execution_count": 38,
   "id": "11c07a54",
   "metadata": {},
   "outputs": [
    {
     "name": "stdout",
     "output_type": "stream",
     "text": [
      "The president of Iran is Hassan Rouhani.\n",
      "\n",
      "###\n",
      "\n",
      "Masoud Pezeshkian.\n"
     ]
    }
   ],
   "source": [
    "print(openai_query(question))\n",
    "print(\"\\n###\\n\") # print delimiter\n",
    "print(openai_query(custom_question))"
   ]
  }
 ],
 "metadata": {
  "kernelspec": {
   "display_name": "Python 3 (ipykernel)",
   "language": "python",
   "name": "python3"
  },
  "language_info": {
   "codemirror_mode": {
    "name": "ipython",
    "version": 3
   },
   "file_extension": ".py",
   "mimetype": "text/x-python",
   "name": "python",
   "nbconvert_exporter": "python",
   "pygments_lexer": "ipython3",
   "version": "3.9.18"
  }
 },
 "nbformat": 4,
 "nbformat_minor": 5
}
